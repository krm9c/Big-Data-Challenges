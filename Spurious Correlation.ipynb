{
 "cells": [
  {
   "cell_type": "markdown",
   "metadata": {
    "deletable": true,
    "editable": true
   },
   "source": [
    "## This is a test for checking the validity of spurious corealtions in high dimensional and Large data."
   ]
  },
  {
   "cell_type": "code",
   "execution_count": 1,
   "metadata": {
    "collapsed": true,
    "deletable": true,
    "editable": true
   },
   "outputs": [],
   "source": [
    "import numpy as np "
   ]
  },
  {
   "cell_type": "markdown",
   "metadata": {
    "deletable": true,
    "editable": true
   },
   "source": [
    "Let us now create some data"
   ]
  },
  {
   "cell_type": "code",
   "execution_count": 22,
   "metadata": {
    "collapsed": false,
    "deletable": true,
    "editable": true
   },
   "outputs": [],
   "source": [
    "n_sam = 10000\n",
    "n_fea = 10\n",
    "n_informative = 10\n",
    "X,y = make_classification(n_samples = n_sam, n_features = n_fea, n_informative = n_inf, n_redundant = (n_fea-n_inf), n_classes = classes, n_clusters_per_class = 1, class_sep = 1, hypercube = True, shuffle = True, random_state = 9000)"
   ]
  },
  {
   "cell_type": "code",
   "execution_count": 3,
   "metadata": {
    "collapsed": true,
    "deletable": true,
    "editable": true
   },
   "outputs": [],
   "source": [
    "from sklearn.datasets import  make_classification"
   ]
  },
  {
   "cell_type": "code",
   "execution_count": 23,
   "metadata": {
    "collapsed": false,
    "deletable": true,
    "editable": true
   },
   "outputs": [],
   "source": [
    "n_sam = 10000\n",
    "n_fea = 10\n",
    "n_inf = 10\n",
    "classes = 1\n",
    "X,y = make_classification(n_samples = n_sam, n_features = n_fea, n_informative = n_inf, n_redundant = (n_fea-n_inf), n_classes = classes, n_clusters_per_class = 1, class_sep = 10, hypercube = True, shuffle = True, random_state = 9000)"
   ]
  },
  {
   "cell_type": "code",
   "execution_count": 19,
   "metadata": {
    "collapsed": false,
    "deletable": true,
    "editable": true
   },
   "outputs": [
    {
     "name": "stdout",
     "output_type": "stream",
     "text": [
      "[[  8.56795012   8.71056394 -10.86099941 ...,  10.09389948  11.22571427\n",
      "   10.63139369]\n",
      " [  8.65733999   6.16913198  -8.30754415 ...,  10.08943003  11.39755103\n",
      "    9.49615553]\n",
      " [  9.90498221  11.60413579  -9.77287178 ...,   9.82099739   8.21731897\n",
      "   11.4542408 ]\n",
      " ..., \n",
      " [ 12.95049621  10.79554851  -8.7596032  ...,  10.99072141   9.06438334\n",
      "   13.16707642]\n",
      " [  9.93918531  10.32734398  -9.04016856 ...,  11.16153868   9.66289447\n",
      "   11.62389972]\n",
      " [  7.4368554    9.81201788 -11.50247621 ...,   7.65547744   9.6466591\n",
      "    9.09411362]]\n"
     ]
    }
   ],
   "source": [
    "print X"
   ]
  },
  {
   "cell_type": "markdown",
   "metadata": {
    "deletable": true,
    "editable": true
   },
   "source": [
    "since we got the data. Now let us see how the correlation fares in this data"
   ]
  },
  {
   "cell_type": "code",
   "execution_count": 24,
   "metadata": {
    "collapsed": false,
    "deletable": true,
    "editable": true
   },
   "outputs": [],
   "source": [
    "C = np.corrcoef(np.transpose(X))"
   ]
  },
  {
   "cell_type": "code",
   "execution_count": 16,
   "metadata": {
    "collapsed": false,
    "deletable": true,
    "editable": true
   },
   "outputs": [
    {
     "ename": "AttributeError",
     "evalue": "'module' object has no attribute 'det'",
     "output_type": "error",
     "traceback": [
      "\u001b[0;31m---------------------------------------------------------------------------\u001b[0m",
      "\u001b[0;31mAttributeError\u001b[0m                            Traceback (most recent call last)",
      "\u001b[0;32m<ipython-input-16-ca10c1182275>\u001b[0m in \u001b[0;36m<module>\u001b[0;34m()\u001b[0m\n\u001b[0;32m----> 1\u001b[0;31m \u001b[0;32mprint\u001b[0m \u001b[0mnp\u001b[0m\u001b[0;34m.\u001b[0m\u001b[0mdet\u001b[0m\u001b[0;34m(\u001b[0m\u001b[0mC\u001b[0m\u001b[0;34m)\u001b[0m\u001b[0;34m\u001b[0m\u001b[0m\n\u001b[0m",
      "\u001b[0;31mAttributeError\u001b[0m: 'module' object has no attribute 'det'"
     ]
    }
   ],
   "source": [
    "print np.det(C)"
   ]
  },
  {
   "cell_type": "code",
   "execution_count": 25,
   "metadata": {
    "collapsed": false,
    "deletable": true,
    "editable": true
   },
   "outputs": [
    {
     "name": "stdout",
     "output_type": "stream",
     "text": [
      "5.11097835946e-05\n"
     ]
    }
   ],
   "source": [
    "print np.linalg.det(C)"
   ]
  },
  {
   "cell_type": "code",
   "execution_count": 12,
   "metadata": {
    "collapsed": false,
    "deletable": true,
    "editable": true
   },
   "outputs": [
    {
     "name": "stdout",
     "output_type": "stream",
     "text": [
      "(100, 100)\n"
     ]
    }
   ],
   "source": [
    "print C.shape"
   ]
  },
  {
   "cell_type": "code",
   "execution_count": 52,
   "metadata": {
    "collapsed": false,
    "deletable": true,
    "editable": true
   },
   "outputs": [
    {
     "data": {
      "image/png": "[encoded data removed]",
      "text/plain": [
       "<matplotlib.figure.Figure at 0x10dcbc090>"
      ]
     },
     "metadata": {},
     "output_type": "display_data"
    },
    {
     "data": {
      "image/png": "[encoded data removed]",
      "text/plain": [
       "<matplotlib.figure.Figure at 0x109180710>"
      ]
     },
     "metadata": {},
     "output_type": "display_data"
    }
   ],
   "source": [
    "from random import choice\n",
    "import matplotlib.pyplot as plt\n",
    "\n",
    "# Define the number of samples \n",
    "num_samples = 4000\n",
    "n = 10\n",
    "\n",
    "# The desired covariance matrix.\n",
    "a = 2\n",
    "A = np.matrix([ np.random.randn(n) + np.random.randn(1)*a for i in range(n) ])\n",
    "A = A*np.transpose(A)\n",
    "D_half = np.diag(np.diag(A)**(-0.5))\n",
    "C = D_half*A*D_half\n",
    "vals = list(np.array(C.ravel())[0])\n",
    "plt.hist(vals)\n",
    "plt.show()\n",
    "plt.imshow(C, interpolation=None)\n",
    "plt.show()"
   ]
  },
  {
   "cell_type": "code",
   "execution_count": 53,
   "metadata": {
    "collapsed": false
   },
   "outputs": [
    {
     "name": "stdout",
     "output_type": "stream",
     "text": [
      "1.05501207174e-08\n"
     ]
    }
   ],
   "source": [
    "print np.linalg.det(C)"
   ]
  },
  {
   "cell_type": "code",
   "execution_count": 56,
   "metadata": {
    "collapsed": false
   },
   "outputs": [
    {
     "name": "stdout",
     "output_type": "stream",
     "text": [
      "(10, 10)\n"
     ]
    }
   ],
   "source": [
    "print C.shape"
   ]
  },
  {
   "cell_type": "code",
   "execution_count": 57,
   "metadata": {
    "collapsed": false,
    "scrolled": false
   },
   "outputs": [
    {
     "name": "stdout",
     "output_type": "stream",
     "text": [
      "[  6.54723231e+00   1.77581290e+00   8.34620373e-01   3.71849798e-01\n",
      "   2.07256469e-01   1.31591511e-01   8.24818093e-02   3.30932245e-02\n",
      "   3.00893945e-03   1.30526671e-02]\n"
     ]
    }
   ],
   "source": [
    "print np.linalg.eig(C)[0]"
   ]
  },
  {
   "cell_type": "code",
   "execution_count": 58,
   "metadata": {
    "collapsed": false
   },
   "outputs": [
    {
     "name": "stdout",
     "output_type": "stream",
     "text": [
      "[[ 0.07070742 -0.64850669  0.44753633  0.21266085 -0.06442499 -0.44927989\n",
      "   0.31877745 -0.1378315   0.03908385  0.02791053]]\n"
     ]
    }
   ],
   "source": [
    "print np.linalg.eig(C)[1][0]"
   ]
  },
  {
   "cell_type": "code",
   "execution_count": 91,
   "metadata": {
    "collapsed": false
   },
   "outputs": [
    {
     "name": "stdout",
     "output_type": "stream",
     "text": [
      "[[ 204.30409963 -189.12803506  -82.59082629   27.7703443   -83.33268934\n",
      "  -110.60447085   96.18804002  -27.46657722   37.86311853   86.11521914]\n",
      " [-189.12803506  185.44969079   79.75408291  -28.66629297   80.22006753\n",
      "    97.10224135  -95.97612372   23.34289861  -37.18216412  -81.65925722]\n",
      " [ -82.59082629   79.75408291   40.59368263  -11.93382067   35.20067508\n",
      "    41.36411584  -39.77667477    9.63687785  -15.33023169  -40.0527849 ]\n",
      " [  27.7703443   -28.66629297  -11.93382067    9.59804054  -13.01121042\n",
      "   -16.16202072   16.31587649   -5.32455482    8.94232346   16.96071276]\n",
      " [ -83.33268934   80.22006753   35.20067508  -13.01121042   46.49121233\n",
      "    46.03005218  -44.83931388    9.11637348  -16.64149408  -38.97994898]\n",
      " [-110.60447085   97.10224135   41.36411584  -16.16202072   46.03005218\n",
      "    67.72027497  -48.90460087   15.40675218  -23.96770514  -48.92716579]\n",
      " [  96.18804002  -95.97612372  -39.77667477   16.31587649  -44.83931388\n",
      "   -48.90460087   52.33517023  -12.13783508   18.51806395   42.47781561]\n",
      " [ -27.46657722   23.34289861    9.63687785   -5.32455482    9.11637348\n",
      "    15.40675218  -12.13783508    8.26199767   -3.43007962   -9.45537622]\n",
      " [  37.86311853  -37.18216412  -15.33023169    8.94232346  -16.64149408\n",
      "   -23.96770514   18.51806395   -3.43007962   16.92026015   16.84914501]\n",
      " [  86.11521914  -81.65925722  -40.0527849    16.96071276  -38.97994898\n",
      "   -48.92716579   42.47781561   -9.45537622   16.84914501   56.67780405]]\n",
      "Mean [0.5, 0.5, 0.5, 0.5, 0.5, 0.5, 0.5, 0.5, 0.5, 0.5]\n"
     ]
    }
   ],
   "source": [
    "from random import choice\n",
    "import matplotlib.pyplot as plt\n",
    "\n",
    "# Define the number of samples \n",
    "num_samples = 4000\n",
    "n = 10\n",
    "\n",
    "# The desired covariance matrix.\n",
    "a = 2\n",
    "A = np.matrix([ np.random.randn(n) + np.random.randn(1)*a for i in range(n) ])\n",
    "A = A*np.transpose(A)\n",
    "print A \n",
    "\n",
    "D_half = np.diag(np.diag(A)**(-0.5))\n",
    "C = D_half*A*D_half\n",
    "\n",
    "# vals = list(np.array(C.ravel())[0])\n",
    "# plt.hist(vals)\n",
    "# plt.show()\n",
    "# plt.imshow(C, interpolation=None)\n",
    "# plt.show()\n",
    "mean = [0.5 for i in xrange(n)]\n",
    "X = np.random.multivariate_normal(mean, C,num_samples )"
   ]
  },
  {
   "cell_type": "code",
   "execution_count": 77,
   "metadata": {
    "collapsed": false
   },
   "outputs": [
    {
     "name": "stdout",
     "output_type": "stream",
     "text": [
      "[[ 1.33295765  0.40752266 -0.11651812 ..., -0.0107085  -0.82152783\n",
      "  -0.29920091]\n",
      " [ 0.93812157  1.08181167  0.25580555 ...,  0.62497861 -1.44235112\n",
      "   0.65971519]\n",
      " [ 0.62706671  1.35684641 -0.42830503 ...,  0.93835646  0.06568531\n",
      "   0.42406647]\n",
      " ..., \n",
      " [ 0.02736714 -1.13586182 -0.61160831 ..., -1.22985748  0.51404221\n",
      "  -0.82088849]\n",
      " [-1.37418824 -1.79992149 -1.23351307 ..., -1.51615356  1.35599832\n",
      "  -0.85142187]\n",
      " [-0.64874587 -0.06411444  0.29511194 ..., -0.33843968 -0.88446802\n",
      "  -1.10614773]]\n"
     ]
    }
   ],
   "source": [
    "print X"
   ]
  },
  {
   "cell_type": "code",
   "execution_count": 87,
   "metadata": {
    "collapsed": false
   },
   "outputs": [],
   "source": [
    "C = np.corrcoef(X)"
   ]
  },
  {
   "cell_type": "code",
   "execution_count": 83,
   "metadata": {
    "collapsed": false
   },
   "outputs": [
    {
     "data": {
      "text/plain": [
       "array([ 0.01687356,  0.01301786,  0.00749266,  0.00318023, -0.00842747,\n",
       "        0.02492292,  0.00735735,  0.00756637,  0.00504525,  0.02066248])"
      ]
     },
     "execution_count": 83,
     "metadata": {},
     "output_type": "execute_result"
    }
   ],
   "source": [
    "np.mean(X, 0)"
   ]
  },
  {
   "cell_type": "code",
   "execution_count": 92,
   "metadata": {
    "collapsed": false
   },
   "outputs": [
    {
     "data": {
      "text/plain": [
       "(array([  7.59663056e+00,   7.37345933e-01,   6.69823092e-01,\n",
       "          4.11532909e-01,   2.69283609e-01,   2.05856062e-01,\n",
       "          9.59815224e-02,   8.66959305e-05,   3.81943662e-03,\n",
       "          9.64017574e-03]),\n",
       " matrix([[  3.51027094e-01,   1.04365398e-01,   1.85450339e-01,\n",
       "           -2.22766665e-01,  -1.21894656e-01,   8.34424941e-02,\n",
       "            2.39468968e-01,  -5.60815797e-01,   6.22420299e-01,\n",
       "            2.79874615e-02],\n",
       "         [ -3.50905024e-01,   2.78400939e-03,  -1.69605311e-01,\n",
       "            9.29979479e-02,  -1.67404465e-01,  -3.08305274e-01,\n",
       "           -3.61540142e-01,   2.82727719e-01,   6.91167350e-01,\n",
       "           -1.67357083e-01],\n",
       "         [ -3.30761198e-01,   3.64855503e-02,  -2.89662633e-01,\n",
       "           -1.15637404e-01,   1.65075830e-01,  -5.73472951e-01,\n",
       "            5.60726326e-01,  -1.31567939e-01,  -1.42267535e-02,\n",
       "            3.22399741e-01],\n",
       "         [  2.84904623e-01,  -3.66968568e-02,  -6.39242459e-01,\n",
       "            4.75436013e-01,   2.28243868e-01,  -1.04646926e-03,\n",
       "            3.39129608e-02,  -2.70825111e-01,   1.16348078e-02,\n",
       "           -3.95075076e-01],\n",
       "         [ -3.24818602e-01,   1.23694973e-01,  -2.63358138e-01,\n",
       "            1.35236889e-02,  -4.39510675e-01,   5.61772368e-01,\n",
       "            4.94818103e-01,   1.81159190e-01,   6.34543534e-02,\n",
       "           -1.38579006e-01],\n",
       "         [ -3.35983171e-01,  -4.84108644e-02,  -7.81514631e-03,\n",
       "            3.30997963e-01,   4.30370792e-01,   4.43705496e-01,\n",
       "           -1.51837288e-01,  -1.83756912e-01,   2.11771751e-01,\n",
       "            5.39804543e-01],\n",
       "         [  3.45762256e-01,   3.25346147e-04,   1.37878785e-01,\n",
       "            3.84437861e-02,   4.84964771e-01,   6.39985706e-02,\n",
       "            3.81066682e-01,   6.27204152e-01,   2.84170390e-01,\n",
       "           -3.63806575e-02],\n",
       "         [ -2.38585857e-01,  -8.17042796e-01,   3.07562143e-01,\n",
       "            1.21681891e-01,   3.77938652e-02,  -1.49988954e-02,\n",
       "            2.17212861e-01,  -1.38327916e-01,   3.86515728e-02,\n",
       "           -3.10891584e-01],\n",
       "         [  2.63522514e-01,  -5.30214061e-01,  -5.01330204e-01,\n",
       "           -4.60181629e-01,  -9.43843878e-02,   1.37906004e-01,\n",
       "           -1.53592128e-01,   1.39089251e-01,   5.73392710e-02,\n",
       "            3.34931629e-01],\n",
       "         [  3.14263184e-01,  -1.41747000e-01,   9.97559938e-02,\n",
       "            6.03755664e-01,  -5.03841121e-01,  -1.82513772e-01,\n",
       "            1.11785223e-01,   1.28232527e-01,   1.16026067e-02,\n",
       "            4.36386285e-01]]))"
      ]
     },
     "execution_count": 92,
     "metadata": {},
     "output_type": "execute_result"
    }
   ],
   "source": [
    "np.linalg.eig(C)"
   ]
  },
  {
   "cell_type": "code",
   "execution_count": 89,
   "metadata": {
    "collapsed": true
   },
   "outputs": [],
   "source": [
    "import tensorflow as tf"
   ]
  },
  {
   "cell_type": "code",
   "execution_count": 90,
   "metadata": {
    "collapsed": false
   },
   "outputs": [
    {
     "ename": "ImportError",
     "evalue": "No module named Keras",
     "output_type": "error",
     "traceback": [
      "\u001b[0;31m---------------------------------------------------------------------------\u001b[0m",
      "\u001b[0;31mImportError\u001b[0m                               Traceback (most recent call last)",
      "\u001b[0;32m<ipython-input-90-d8c84ed7b939>\u001b[0m in \u001b[0;36m<module>\u001b[0;34m()\u001b[0m\n\u001b[0;32m----> 1\u001b[0;31m \u001b[0;32mimport\u001b[0m \u001b[0mKeras\u001b[0m \u001b[0;32mas\u001b[0m \u001b[0mK\u001b[0m\u001b[0;34m\u001b[0m\u001b[0m\n\u001b[0m",
      "\u001b[0;31mImportError\u001b[0m: No module named Keras"
     ]
    }
   ],
   "source": [
    "import Keras as K"
   ]
  },
  {
   "cell_type": "code",
   "execution_count": 93,
   "metadata": {
    "collapsed": true
   },
   "outputs": [],
   "source": [
    "from scipy.stats import ortho_group"
   ]
  },
  {
   "cell_type": "code",
   "execution_count": null,
   "metadata": {
    "collapsed": true
   },
   "outputs": [],
   "source": [
    "m = ortho_group.rvs(dim = 3000)"
   ]
  },
  {
   "cell_type": "code",
   "execution_count": null,
   "metadata": {
    "collapsed": false
   },
   "outputs": [],
   "source": [
    "print m"
   ]
  },
  {
   "cell_type": "code",
   "execution_count": null,
   "metadata": {
    "collapsed": true
   },
   "outputs": [],
   "source": []
  }
 ],
 "metadata": {
  "kernelspec": {
   "display_name": "Python 2",
   "language": "python",
   "name": "python2"
  },
  "language_info": {
   "codemirror_mode": {
    "name": "ipython",
    "version": 2
   },
   "file_extension": ".py",
   "mimetype": "text/x-python",
   "name": "python",
   "nbconvert_exporter": "python",
   "pygments_lexer": "ipython2",
   "version": "2.7.12"
  }
 },
 "nbformat": 4,
 "nbformat_minor": 2
}
