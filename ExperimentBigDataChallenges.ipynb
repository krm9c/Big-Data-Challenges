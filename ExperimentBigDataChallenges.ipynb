{
 "cells": [
  {
   "cell_type": "code",
   "execution_count": 1,
   "metadata": {
    "collapsed": true
   },
   "outputs": [],
   "source": [
    "## First up is create some data"
   ]
  },
  {
   "cell_type": "code",
   "execution_count": 35,
   "metadata": {
    "collapsed": true
   },
   "outputs": [],
   "source": [
    "from random import choice\n",
    "import matplotlib.pyplot as plt\n",
    "import numpy as np\n",
    "# Define the number of samples \n",
    "num_samples = 4000\n",
    "n = 3"
   ]
  },
  {
   "cell_type": "code",
   "execution_count": 36,
   "metadata": {
    "collapsed": true
   },
   "outputs": [],
   "source": [
    "from scipy.stats import ortho_group"
   ]
  },
  {
   "cell_type": "code",
   "execution_count": 37,
   "metadata": {
    "collapsed": false
   },
   "outputs": [
    {
     "name": "stdout",
     "output_type": "stream",
     "text": [
      "1.0\n"
     ]
    },
    {
     "data": {
      "text/plain": [
       "1.0000000000000002"
      ]
     },
     "execution_count": 37,
     "metadata": {},
     "output_type": "execute_result"
    }
   ],
   "source": [
    "D  = ortho_group.rvs(dim = n)\n",
    "print np.linalg.det(D)\n",
    "np.dot(D[1,:], D[1,:])"
   ]
  },
  {
   "cell_type": "code",
   "execution_count": 38,
   "metadata": {
    "collapsed": false
   },
   "outputs": [],
   "source": [
    "import random\n",
    "# Create a random Matrix\n",
    "A = np.matrix( np.random.rand(n,n))"
   ]
  },
  {
   "cell_type": "code",
   "execution_count": 39,
   "metadata": {
    "collapsed": true
   },
   "outputs": [],
   "source": [
    "## Using the last two values which aimed at creating an orthonormal \n",
    "## basis and a set of eigen values, we create a matrix"
   ]
  },
  {
   "cell_type": "code",
   "execution_count": 43,
   "metadata": {
    "collapsed": true
   },
   "outputs": [],
   "source": [
    "SymA = np.dot(A, np.transpose(A))\n",
    "C = SymA+ n*np.eye(n)"
   ]
  },
  {
   "cell_type": "code",
   "execution_count": 44,
   "metadata": {
    "collapsed": false
   },
   "outputs": [
    {
     "name": "stdout",
     "output_type": "stream",
     "text": [
      "55.1376796583\n"
     ]
    }
   ],
   "source": [
    "print np.linalg.det(SymA+ n*np.eye(n))"
   ]
  },
  {
   "cell_type": "code",
   "execution_count": 45,
   "metadata": {
    "collapsed": false
   },
   "outputs": [
    {
     "data": {
      "text/plain": [
       "array([ 5.22376329,  3.02271719,  3.4919457 ])"
      ]
     },
     "execution_count": 45,
     "metadata": {},
     "output_type": "execute_result"
    }
   ],
   "source": [
    "np.linalg.eig(C)[0]"
   ]
  },
  {
   "cell_type": "code",
   "execution_count": 47,
   "metadata": {
    "collapsed": false
   },
   "outputs": [
    {
     "name": "stdout",
     "output_type": "stream",
     "text": [
      "[[ 3.62076557  0.60804936  0.59023409]\n",
      " [ 0.60804936  3.64152212  0.62272139]\n",
      " [ 0.59023409  0.62272139  4.47613848]]\n"
     ]
    }
   ],
   "source": [
    "print C"
   ]
  },
  {
   "cell_type": "code",
   "execution_count": 50,
   "metadata": {
    "collapsed": true
   },
   "outputs": [],
   "source": [
    "mean = [np.random.rand()*20 for i in xrange(n)]"
   ]
  },
  {
   "cell_type": "code",
   "execution_count": 51,
   "metadata": {
    "collapsed": false
   },
   "outputs": [
    {
     "name": "stdout",
     "output_type": "stream",
     "text": [
      "[10.496293268292348, 14.245538246245125, 6.557123686999682]\n"
     ]
    }
   ],
   "source": [
    "print mean"
   ]
  },
  {
   "cell_type": "code",
   "execution_count": 52,
   "metadata": {
    "collapsed": true
   },
   "outputs": [],
   "source": [
    "## Next Go ahead and get some data "
   ]
  },
  {
   "cell_type": "code",
   "execution_count": null,
   "metadata": {
    "collapsed": false
   },
   "outputs": [],
   "source": [
    "# Correlation matrix is singular when the number of \n",
    "# attributes are equal to or less than the number of\n",
    "# samples present.\n",
    "\n",
    "\n",
    "import random\n",
    "import matplotlib.pyplot as plt\n",
    "\n",
    "# Choose size of the matrices\n",
    "n = 100\n",
    "\n",
    "# Create a random Matrix\n",
    "A = np.matrix( np.random.rand(n,n))\n",
    "\n",
    "## Using the last two values which aimed at creating an orthonormal \n",
    "## basis and a set of eigen values, we create a matrix\n",
    "SymA = np.dot(A, np.transpose(A))\n",
    "C = SymA+ n*np.eye(n)\n",
    "mean = [np.random.rand()*20 for i in xrange(n)]\n",
    "\n",
    "# Now get the data samples\n",
    "NUM_SAMPLES =20\n",
    "T = []\n",
    "for i in xrange(20000, 0, -20):\n",
    "    X = np.random.multivariate_normal(mean, C, i)\n",
    "    C_ESTIMATE = np.cov(np.transpose(X))\n",
    "    T.append(np.linalg.det(C_ESTIMATE))\n",
    "plt.hist(T)\n",
    "plt.show()"
   ]
  },
  {
   "cell_type": "code",
   "execution_count": 56,
   "metadata": {
    "collapsed": false
   },
   "outputs": [
    {
     "data": {
      "text/plain": [
       "array([[ 3.42736436,  0.65724934,  0.55102204],\n",
       "       [ 0.65724934,  3.75077449,  0.55380286],\n",
       "       [ 0.55102204,  0.55380286,  4.30675269]])"
      ]
     },
     "execution_count": 56,
     "metadata": {},
     "output_type": "execute_result"
    }
   ],
   "source": []
  },
  {
   "cell_type": "code",
   "execution_count": null,
   "metadata": {
    "collapsed": true
   },
   "outputs": [],
   "source": []
  }
 ],
 "metadata": {
  "kernelspec": {
   "display_name": "Python 2",
   "language": "python",
   "name": "python2"
  },
  "language_info": {
   "codemirror_mode": {
    "name": "ipython",
    "version": 2
   },
   "file_extension": ".py",
   "mimetype": "text/x-python",
   "name": "python",
   "nbconvert_exporter": "python",
   "pygments_lexer": "ipython2",
   "version": "2.7.12"
  }
 },
 "nbformat": 4,
 "nbformat_minor": 2
}
